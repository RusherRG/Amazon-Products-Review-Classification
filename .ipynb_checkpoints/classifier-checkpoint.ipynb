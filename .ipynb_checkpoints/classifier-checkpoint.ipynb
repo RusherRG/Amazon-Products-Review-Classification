{
 "cells": [
  {
   "cell_type": "code",
   "execution_count": 119,
   "metadata": {},
   "outputs": [],
   "source": [
    "from pymongo import MongoClient\n",
    "from bson.objectid import ObjectId\n",
    "from pprint import pprint\n",
    "import string\n",
    "import re\n",
    "\n",
    "import nltk\n",
    "from nltk.corpus import stopwords\n",
    "from nltk.stem import WordNetLemmatizer \n",
    "from nltk import word_tokenize, sentiment"
   ]
  },
  {
   "cell_type": "code",
   "execution_count": 108,
   "metadata": {},
   "outputs": [
    {
     "name": "stderr",
     "output_type": "stream",
     "text": [
      "[nltk_data] Downloading package wordnet to /home/rusherrg/nltk_data...\n",
      "[nltk_data]   Unzipping corpora/wordnet.zip.\n"
     ]
    },
    {
     "data": {
      "text/plain": [
       "True"
      ]
     },
     "execution_count": 108,
     "metadata": {},
     "output_type": "execute_result"
    }
   ],
   "source": [
    "import nltk\n",
    "nltk.download('wordnet')"
   ]
  },
  {
   "cell_type": "code",
   "execution_count": 2,
   "metadata": {},
   "outputs": [],
   "source": [
    "mongo_uri = 'mongodb://localhost:10000/'"
   ]
  },
  {
   "cell_type": "code",
   "execution_count": 12,
   "metadata": {},
   "outputs": [],
   "source": [
    "# Database Functions\n",
    "def connect():\n",
    "    client = MongoClient(mongo_uri)\n",
    "    return client.products.oneplus6t\n",
    "\n",
    "def fetch_reviews():\n",
    "    db = connect().reviews\n",
    "    return db.find_one()"
   ]
  },
  {
   "cell_type": "code",
   "execution_count": 44,
   "metadata": {},
   "outputs": [],
   "source": [
    "x = fetch_reviews()"
   ]
  },
  {
   "cell_type": "code",
   "execution_count": 51,
   "metadata": {},
   "outputs": [],
   "source": [
    "reviews = {}\n",
    "reviews['all'] = x['all_reviews']"
   ]
  },
  {
   "cell_type": "code",
   "execution_count": 56,
   "metadata": {},
   "outputs": [],
   "source": [
    "all_reviews = []\n",
    "reviews_battery = {}\n",
    "reviews_picture = {}\n",
    "reviews_value = {}\n",
    "reviews_sound = {}\n",
    "reviews_fingerprint = {}"
   ]
  },
  {
   "cell_type": "code",
   "execution_count": 57,
   "metadata": {},
   "outputs": [],
   "source": [
    "for review in reviews['all']:\n",
    "    all_reviews.append(review['review'])    "
   ]
  },
  {
   "cell_type": "code",
   "execution_count": 106,
   "metadata": {},
   "outputs": [],
   "source": [
    "STOP_WORDS = set(stopwords.words('english'))\n",
    "STOP_WORDS.add('')\n",
    " \n",
    "lemmatizer = WordNetLemmatizer() "
   ]
  },
  {
   "cell_type": "code",
   "execution_count": 129,
   "metadata": {},
   "outputs": [],
   "source": [
    "synonyms = {\n",
    "    'battery': ['battery', 'batterylife', 'batteries'],\n",
    "    'picture': ['picture', 'camera', 'pictures', 'pic', 'photo', 'photograph', 'photography'],\n",
    "    'value': ['worth', 'value', 'cheap'],\n",
    "    'sound': ['sound', 'music', 'speaker', 'loud', 'volume'],\n",
    "    'fingerprint': ['fingerprint', 'scanner', 'finger'],    \n",
    "}"
   ]
  },
  {
   "cell_type": "code",
   "execution_count": 148,
   "metadata": {},
   "outputs": [],
   "source": [
    "clean_reviews = []\n",
    "for review in all_reviews:\n",
    "    review = ''.join(ch for ch in review if ch not in string.punctuation)\n",
    "    words = re.sub('(\\n+|\\\\d|\\\\W)',' ',review).split()\n",
    "    review = ' '.join([lemmatizer.lemmatize(word.lower()) for word in words if word.lower() not in STOP_WORDS])\n",
    "    review = review.split()\n",
    "    for i in range(len(review)):\n",
    "        for key in synonyms:\n",
    "            for val in synonyms[key]:\n",
    "                if review[i] == val:\n",
    "                    review[i] = key\n",
    "    review = ' '.join(review)\n",
    "    clean_reviews.append(review)"
   ]
  },
  {
   "cell_type": "code",
   "execution_count": 150,
   "metadata": {},
   "outputs": [],
   "source": [
    "reviews_battery['all'] = [i for i in range(len(clean_reviews)) if clean_reviews[i].find('battery')!=-1]\n",
    "reviews_picture['all'] = [i for i in range(len(clean_reviews)) if clean_reviews[i].find('picture')!=-1]\n",
    "reviews_value['all'] = [i for i in range(len(clean_reviews)) if clean_reviews[i].find('value')!=-1]\n",
    "reviews_sound['all'] = [i for i in range(len(clean_reviews)) if clean_reviews[i].find('sound')!=-1]\n",
    "reviews_fingerprint['all'] = [i for i in range(len(clean_reviews)) if clean_reviews[i].find('fingerprint')!=-1]"
   ]
  },
  {
   "cell_type": "code",
   "execution_count": null,
   "metadata": {},
   "outputs": [],
   "source": []
  }
 ],
 "metadata": {
  "kernelspec": {
   "display_name": "Python 3",
   "language": "python",
   "name": "python3"
  },
  "language_info": {
   "codemirror_mode": {
    "name": "ipython",
    "version": 3
   },
   "file_extension": ".py",
   "mimetype": "text/x-python",
   "name": "python",
   "nbconvert_exporter": "python",
   "pygments_lexer": "ipython3",
   "version": "3.6.7"
  }
 },
 "nbformat": 4,
 "nbformat_minor": 2
}
