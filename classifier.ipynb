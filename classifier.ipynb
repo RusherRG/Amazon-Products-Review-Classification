{
 "cells": [
  {
   "cell_type": "code",
   "execution_count": 328,
   "metadata": {},
   "outputs": [],
   "source": [
    "from pymongo import MongoClient\n",
    "from bson.objectid import ObjectId\n",
    "from pprint import pprint\n",
    "import string\n",
    "import re\n",
    "\n",
    "import nltk\n",
    "from nltk.corpus import stopwords\n",
    "from nltk.stem import WordNetLemmatizer \n",
    "from nltk import word_tokenize, sentiment\n",
    "from nltk.sentiment.vader import SentimentIntensityAnalyzer"
   ]
  },
  {
   "cell_type": "code",
   "execution_count": 329,
   "metadata": {},
   "outputs": [],
   "source": [
    "mongo_uri = 'mongodb://localhost:10000/'\n",
    "\n",
    "all_reviews = []\n",
    "reviews_battery = {}\n",
    "reviews_picture = {}\n",
    "reviews_value = {}\n",
    "reviews_sound = {}\n",
    "reviews_fingerprint = {}\n",
    "\n",
    "STOP_WORDS = set(stopwords.words('english'))\n",
    "STOP_WORDS.add('')\n",
    " \n",
    "lemmatizer = WordNetLemmatizer() \n",
    "\n",
    "sid = SentimentIntensityAnalyzer()\n",
    "\n",
    "synonyms = {\n",
    "    'battery': ['battery', 'batterylife', 'batteries'],\n",
    "    'picture': ['picture', 'camera', 'pictures', 'pic', 'photo', 'photograph', 'photography'],\n",
    "    'value': ['worth', 'value', 'cheap'],\n",
    "    'sound': ['sound', 'music', 'speaker', 'loud', 'volume'],\n",
    "    'fingerprint': ['fingerprint', 'scanner', 'finger'],    \n",
    "    'flagship': ['flagship', 'killer'],\n",
    "}"
   ]
  },
  {
   "cell_type": "code",
   "execution_count": 357,
   "metadata": {},
   "outputs": [],
   "source": [
    "# Database Functions\n",
    "def connect(product):\n",
    "    product = ''.join(product.lower().split())\n",
    "    client = MongoClient(mongo_uri)\n",
    "    return client.products[product]\n",
    "\n",
    "def fetch_product(product):\n",
    "    db = connect(product).details\n",
    "    for i in db.find():\n",
    "        if i['title'].find(product)!=-1:\n",
    "            return i['_id']\n",
    "    \n",
    "def fetch_reviews(product):\n",
    "    db = connect(product).reviews\n",
    "    for i in db.find():\n",
    "        if i['title'].find(product)!=-1:\n",
    "            return i\n",
    "    \n",
    "def insert_reviews_class(product, data):\n",
    "    db = connect(product).reviews\n",
    "    pid = fetch_product(product)\n",
    "    for key in data:\n",
    "        print(db.update_one({'product_id':pid}, {'$set':{key: data[key]}}))\n",
    "    return"
   ]
  },
  {
   "cell_type": "code",
   "execution_count": 331,
   "metadata": {},
   "outputs": [],
   "source": [
    "x = fetch_reviews('OnePlus 6T')"
   ]
  },
  {
   "cell_type": "code",
   "execution_count": 332,
   "metadata": {},
   "outputs": [],
   "source": [
    "Reviews = {}\n",
    "Reviews['all'] = x['all_reviews']"
   ]
  },
  {
   "cell_type": "code",
   "execution_count": 333,
   "metadata": {},
   "outputs": [],
   "source": [
    "for review in Reviews['all']:\n",
    "    all_reviews.append([review['review'], review['title']])    "
   ]
  },
  {
   "cell_type": "code",
   "execution_count": 334,
   "metadata": {},
   "outputs": [],
   "source": [
    "def clean_review(review):\n",
    "    replace = ['flagship']\n",
    "    review = ''.join(ch for ch in review if ch not in string.punctuation)\n",
    "    words = re.sub('(\\n+|\\\\d|\\\\W)',' ',review).split()\n",
    "    review = ' '.join([lemmatizer.lemmatize(word.lower()) for word in words if word.lower() not in STOP_WORDS])\n",
    "    review = review.split()\n",
    "    for i in range(len(review)):\n",
    "        for key in synonyms:\n",
    "            for val in synonyms[key]:\n",
    "                if review[i] == val:\n",
    "                    review[i] = key\n",
    "    review = ' '.join(review)\n",
    "    return review"
   ]
  },
  {
   "cell_type": "code",
   "execution_count": 335,
   "metadata": {},
   "outputs": [],
   "source": [
    "clean_reviews = []\n",
    "for review in all_reviews:\n",
    "    clean = [clean_review(review[0]), clean_review(review[1])]\n",
    "    clean_reviews.append(clean)"
   ]
  },
  {
   "cell_type": "code",
   "execution_count": 336,
   "metadata": {},
   "outputs": [],
   "source": [
    "reviews_battery['all'] = [i for i in range(len(clean_reviews)) if clean_reviews[i][0].find('battery')!=-1]\n",
    "reviews_picture['all'] = [i for i in range(len(clean_reviews)) if clean_reviews[i][0].find('picture')!=-1]\n",
    "reviews_value['all'] = [i for i in range(len(clean_reviews)) if clean_reviews[i][0].find('value')!=-1]\n",
    "reviews_sound['all'] = [i for i in range(len(clean_reviews)) if clean_reviews[i][0].find('sound')!=-1]\n",
    "reviews_fingerprint['all'] = [i for i in range(len(clean_reviews)) if clean_reviews[i][0].find('fingerprint')!=-1]"
   ]
  },
  {
   "cell_type": "code",
   "execution_count": 337,
   "metadata": {},
   "outputs": [],
   "source": [
    "def sentiment_analysis(reviews, classs):\n",
    "    ind = reviews['all']\n",
    "    pos = []\n",
    "    neu = []\n",
    "    neg = []\n",
    "    for i in ind:\n",
    "        words = nltk.pos_tag(clean_reviews[i][0].split())\n",
    "        score = {'neg': 0, 'neu': 0, 'pos': 0}\n",
    "        for j in range(len(words)):\n",
    "            sentence = []\n",
    "            if words[j][0]==classs:\n",
    "                for k in range(max(0, j-1), min(len(words),j+2)):\n",
    "                    sentence.append(words[k][0])\n",
    "                sentence = ' '.join(sentence)\n",
    "                pol_score = sid.polarity_scores(sentence)\n",
    "                if pol_score['neu'] == 1.0:\n",
    "                    pol_score['neu'] = 0.0\n",
    "                #print(pol_score, sentence)\n",
    "                for key in ['neg', 'neu', 'pos']:\n",
    "                    score[key] += pol_score[key]\n",
    "        pol_score = sid.polarity_scores(clean_reviews[i][1])\n",
    "        for key in ['neg', 'neu', 'pos']:\n",
    "            score[key] += pol_score[key]\n",
    "            score[key] /= max(1.0, sum(score.values()))\n",
    "        \n",
    "        tag = max(score, key=score.get)\n",
    "        #print(score, clean_reviews[i])\n",
    "        eval(tag).append(i)\n",
    "        #print(\"\\n\\n\")\n",
    "    print(\"#Pos:{}\\n#Neu:{}\\n#Neg:{}\".format(len(pos), len(neu), len(neg)))\n",
    "    return pos, neu, neg"
   ]
  },
  {
   "cell_type": "code",
   "execution_count": 338,
   "metadata": {},
   "outputs": [
    {
     "name": "stdout",
     "output_type": "stream",
     "text": [
      "Fetching battery reviews\n",
      "#Pos:957\n",
      "#Neu:560\n",
      "#Neg:73\n",
      "\n",
      "\n",
      "Fetching value reviews\n",
      "#Pos:359\n",
      "#Neu:116\n",
      "#Neg:7\n",
      "\n",
      "\n",
      "Fetching fingerprint reviews\n",
      "#Pos:426\n",
      "#Neu:318\n",
      "#Neg:60\n",
      "\n",
      "\n",
      "Fetching sound reviews\n",
      "#Pos:519\n",
      "#Neu:352\n",
      "#Neg:68\n",
      "\n",
      "\n",
      "Fetching picture reviews\n",
      "#Pos:1183\n",
      "#Neu:668\n",
      "#Neg:108\n",
      "\n",
      "\n"
     ]
    }
   ],
   "source": [
    "reviews_class = {\n",
    "    'battery': reviews_battery,\n",
    "    'value': reviews_value,\n",
    "    'fingerprint': reviews_fingerprint,\n",
    "    'sound': reviews_sound,\n",
    "    'picture': reviews_picture,\n",
    "}\n",
    "for reviews in reviews_class:\n",
    "    print(\"Fetching {} reviews\".format(reviews))\n",
    "    pos, neu, neg  = sentiment_analysis(reviews_class[reviews], reviews)\n",
    "    reviews_class[reviews]['pos'] = pos\n",
    "    reviews_class[reviews]['neu'] = neu\n",
    "    reviews_class[reviews]['neg'] = neg\n",
    "    print('\\n')"
   ]
  },
  {
   "cell_type": "code",
   "execution_count": 362,
   "metadata": {},
   "outputs": [
    {
     "data": {
      "text/plain": [
       "dict_keys(['all', 'pos', 'neu', 'neg'])"
      ]
     },
     "execution_count": 362,
     "metadata": {},
     "output_type": "execute_result"
    }
   ],
   "source": []
  }
 ],
 "metadata": {
  "kernelspec": {
   "display_name": "Python 3",
   "language": "python",
   "name": "python3"
  },
  "language_info": {
   "codemirror_mode": {
    "name": "ipython",
    "version": 3
   },
   "file_extension": ".py",
   "mimetype": "text/x-python",
   "name": "python",
   "nbconvert_exporter": "python",
   "pygments_lexer": "ipython3",
   "version": "3.6.7"
  }
 },
 "nbformat": 4,
 "nbformat_minor": 2
}
