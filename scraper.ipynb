{
 "cells": [
  {
   "cell_type": "code",
   "execution_count": 279,
   "metadata": {},
   "outputs": [],
   "source": [
    "from pymongo import MongoClient\n",
    "import requests\n",
    "from selenium import webdriver\n",
    "import bs4\n",
    "import re\n",
    "from pprint import pprint\n",
    "import time\n",
    "import pickle"
   ]
  },
  {
   "cell_type": "code",
   "execution_count": 246,
   "metadata": {},
   "outputs": [],
   "source": [
    "mongo_uri = 'mongodb://localhost:10000/'\n",
    "url = 'https://www.amazon.in/dp/B07DJHY82F/ref=gbph_img_m-5_d182_b23b14bf?smid=A23AODI1X2CEAE&pf_rd_p=a3a8dc53-aeed-4aa1-88bb-72ce9ddad182&pf_rd_s=merchandised-search-5&pf_rd_t=101&pf_rd_i=1389401031&pf_rd_m=A1VBAL9TL5WCBF&pf_rd_r=P3FSQH2KEB3B5QQ1NQD5'"
   ]
  },
  {
   "cell_type": "markdown",
   "metadata": {},
   "source": [
    "- [X] Product Title\n",
    "- [ ] Product Description\n",
    "- [X] Product Enlarge Image\n",
    "- [X] Product Price (With Exchange and Without Exchange)\n",
    "- [X] Product Colours\n",
    "- [X] No. of Reviews\n",
    "- [X] Star Rating\n",
    "- [X] Technical Details\n",
    "- [X] Most Recent 100 Reviews\n",
    "- [X] All Reviews"
   ]
  },
  {
   "cell_type": "code",
   "execution_count": 248,
   "metadata": {},
   "outputs": [],
   "source": [
    "#Scraping Data\n",
    "def scrape_selenium():\n",
    "    data = {}\n",
    "    browser = webdriver.Firefox()\n",
    "    print(\"Opening Browser\")\n",
    "    browser.get(url)\n",
    "    print(\"Scraping Product Details\")\n",
    "    data = {\n",
    "        'title': browser.find_element_by_id('productTitle').text,\n",
    "        'price': {\n",
    "            'with_exchange': re.sub(' +',' ',browser.find_element_by_id('maxBuyBackDiscountSection').text),\n",
    "            'mrp': re.sub(' +','',browser.find_element_by_class_name('priceBlockStrikePriceString').text),\n",
    "            'deal_price': re.sub(' +','',browser.find_element_by_id('priceblock_dealprice').text),\n",
    "        },\n",
    "        'colors': [i.get_attribute('alt') for i in browser.find_elements_by_class_name('imgSwatch')],\n",
    "        'no_of_reviews': int(re.sub(',','',browser.find_element_by_id('acrCustomerReviewText').text.split()[0])),\n",
    "        'images': [re.search('\\\"(.+?)\\\"',i.get_attribute('style'))[0] for i in browser.find_elements_by_class_name('ivThumbImage')  if i.get_attribute('style')!=''],\n",
    "        'ratings': float(browser.find_element_by_class_name('arp-rating-out-of-text').text.split()[0]), \n",
    "        'tech_details':{},\n",
    "        'all_reviews': [],\n",
    "        'most_recent_reviews': [],\n",
    "    }\n",
    "\n",
    "    print(\"Scraping Technical Details\")\n",
    "    # scraping Technical Details\n",
    "    for i in browser.find_element_by_class_name('pdTab').find_elements_by_tag_name('tr'):\n",
    "        key_value = i.find_elements_by_tag_name('td')\n",
    "        if key_value[0].text.split():\n",
    "            data['tech_details'][key_value[0].text.strip()] = ''.join(key_value[1].text.strip())\n",
    "    \n",
    "    for i in browser.find_elements_by_css_selector(\"span[data-action='main-image-click']\"):\n",
    "        try:\n",
    "            i.click()\n",
    "        except Exception as e:\n",
    "            continue\n",
    "    data['images'] = [re.search('\\\"(.+?)\\\"',i.get_attribute('style'))[0] for i in browser.find_elements_by_class_name('ivThumbImage')  if i.get_attribute('style')!='']\n",
    " \n",
    "    reviews_url = browser.find_element_by_css_selector(\"a[data-hook='see-all-reviews-link-foot']\").get_attribute('href')\n",
    "    return data, reviews_url, browser"
   ]
  },
  {
   "cell_type": "code",
   "execution_count": 250,
   "metadata": {},
   "outputs": [],
   "source": [
    "def most_recent(rurl):\n",
    "    # Fetch 100 most recent reviews\n",
    "    print(\"Fetching 100 most recent reviews\")\n",
    "    most_recent_reviews = []\n",
    "    revurl = rurl + '&sortBy=recent&pageNumber='\n",
    "    for page in range(1,11):\n",
    "        reurl = revurl + str(page)\n",
    "        resp = requests.get(reurl)\n",
    "        count = 0\n",
    "        print(\"Page :\",page,end='\\r')\n",
    "        while resp.status_code!=200:\n",
    "            count += 1\n",
    "            print(count,end='\\r')\n",
    "        soup = bs4.BeautifulSoup(resp.text)\n",
    "        rev_list = soup.select_one('#cm_cr-review_list').select('.review')\n",
    "        #print(rev_list)\n",
    "        for rev in rev_list:\n",
    "            review = {\n",
    "                'customer': rev.select_one('.a-profile-name').text.strip(),\n",
    "                'rating': float(re.search('\\d(\\.\\d)?',rev.select_one('.review-rating')['class'][2])[0]),\n",
    "                'title': rev.select_one('.review-title').text.strip(),\n",
    "                'review': rev.select_one('.review-text').get_text(separator=' ').strip(),\n",
    "            }\n",
    "            #print(review)\n",
    "            most_recent_reviews.append(review)\n",
    "    return most_recent_reviews"
   ]
  },
  {
   "cell_type": "code",
   "execution_count": 251,
   "metadata": {},
   "outputs": [],
   "source": [
    "def all_reviews(rurl):\n",
    "    # Fetch all reviews\n",
    "    print(\"Fetching all Reviews\")\n",
    "    reviews = []\n",
    "    revurl = rurl + '&sortBy=helpful&pageNumber='\n",
    "    pages = data['no_of_reviews']//10 + (data['no_of_reviews']%10 + 9)//10  \n",
    "    for page in range(1,pages+1):\n",
    "        reurl = revurl + str(page)\n",
    "        resp = requests.get(reurl)\n",
    "        count = 0\n",
    "        print(\"Page :\",page,end='\\r')\n",
    "        while resp.status_code!=200:\n",
    "            count += 1\n",
    "            print(count,end='\\r')\n",
    "            time.sleep(5)\n",
    "        soup = bs4.BeautifulSoup(resp.text)\n",
    "        rev_list = soup.select_one('#cm_cr-review_list').select('.review')\n",
    "        #print(rev_list)\n",
    "        for rev in rev_list:\n",
    "            review = {\n",
    "                'customer': rev.select_one('.a-profile-name').text.strip(),\n",
    "                'rating': float(re.search('\\d(\\.\\d)?',rev.select_one('.review-rating')['class'][2])[0]),\n",
    "                'title': rev.select_one('.review-title').text.strip(),\n",
    "                'review': rev.select_one('.review-text').get_text(separator=' ').strip(),\n",
    "            }\n",
    "            #print(review)\n",
    "            reviews.append(review)\n",
    "    return reviews"
   ]
  },
  {
   "cell_type": "code",
   "execution_count": 274,
   "metadata": {},
   "outputs": [],
   "source": [
    "# Scraping All Reviews\n",
    "def fetch_all_reviews(browser, rurl):\n",
    "    print(\"Fetching All Reviews\")\n",
    "    reviews = []\n",
    "    pages = data['no_of_reviews']//10 + (data['no_of_reviews']%10 + 9)//10\n",
    "    revurl = rurl + '&sortBy=helpful&pageNumber='\n",
    "    for page in range(1,pages+1):\n",
    "        print(\"Page :\",page,end='\\r')\n",
    "        browser.get(revurl+str(page))\n",
    "        try:\n",
    "            browser.find_element_by_class_name(\"no-reviews-section\")\n",
    "        except Exception as e:\n",
    "            pass\n",
    "        else:\n",
    "            break\n",
    "        review_list = browser.find_element_by_id('cm_cr-review_list').find_elements_by_class_name('review')\n",
    "        for rev in review_list:\n",
    "            review = {\n",
    "                'customer': rev.find_element_by_class_name('a-profile-name').text,\n",
    "                'rating': float(re.search('\\d(\\.\\d)?',rev.find_element_by_class_name('review-rating').get_attribute('class'))[0]),\n",
    "                'title': rev.find_element_by_class_name('review-title').text.strip(),\n",
    "                'review': ''.join(rev.find_element_by_class_name('review-text').text.strip()),\n",
    "            }\n",
    "            #print(review)\n",
    "            reviews.append(review)\n",
    "    return reviews"
   ]
  },
  {
   "cell_type": "code",
   "execution_count": 247,
   "metadata": {},
   "outputs": [],
   "source": [
    "# Database Functions\n",
    "def connect():\n",
    "    client = MongoClient(mongo_uri)\n",
    "    return client.data\n",
    "\n",
    "def insert_product(data):\n",
    "    db = connect().products\n",
    "    if db.find_one({'':data['']}):\n",
    "        db.products.insert(data)\n",
    "        return True\n",
    "    return False\n",
    "\n",
    "def insert_reviews(data, pid):\n",
    "    db = connect().products\n",
    "    if db.find_one({'':data['']}):\n",
    "        db.products.insert(data)\n",
    "        return True\n",
    "    return False\n"
   ]
  },
  {
   "cell_type": "code",
   "execution_count": 249,
   "metadata": {
    "scrolled": true
   },
   "outputs": [
    {
     "name": "stdout",
     "output_type": "stream",
     "text": [
      "Opening Browser\n",
      "Scraping Product Details\n",
      "Scraping Technical Details\n",
      "{'all_reviews': [],\n",
      " 'colors': ['Mirror Black', 'Midnight Black', 'Speed Orange'],\n",
      " 'images': ['\"https://images-na.ssl-images-amazon.com/images/I/41VkqnrF85L._AA50_.jpg\"',\n",
      "            '\"https://images-na.ssl-images-amazon.com/images/I/31zrxJ74RHL._AA50_.jpg\"',\n",
      "            '\"https://images-na.ssl-images-amazon.com/images/I/31-GdZkkyUL._AA50_.jpg\"',\n",
      "            '\"https://images-na.ssl-images-amazon.com/images/I/41YJBZcf4UL._AA50_.jpg\"',\n",
      "            '\"https://images-na.ssl-images-amazon.com/images/I/21bXdUPe8fL._AA50_.jpg\"',\n",
      "            '\"https://images-na.ssl-images-amazon.com/images/I/21uJnr-B7TL._AA50_.jpg\"',\n",
      "            '\"https://images-na.ssl-images-amazon.com/images/I/31ohyErZTPL._AA50_.jpg\"',\n",
      "            '\"https://images-na.ssl-images-amazon.com/images/I/21oIB5yMVgL._AA50_.jpg\"',\n",
      "            '\"https://images-na.ssl-images-amazon.com/images/I/214iFzKjoXL._AA50_.jpg\"',\n",
      "            '\"https://images-na.ssl-images-amazon.com/images/I/31LNAyZa2TL._AA50_.jpg\"'],\n",
      " 'most_recent_reviews': [],\n",
      " 'no_of_reviews': 14461,\n",
      " 'price': {'deal_price': '37,999.00',\n",
      "           'mrp': '41,999.00',\n",
      "           'with_exchange': 'Up to 11,550.00 off'},\n",
      " 'ratings': 4.5,\n",
      " 'tech_details': {'Batteries:': '1 Lithium Polymer batteries required. '\n",
      "                                '(included)',\n",
      "                  'Battery Power Rating': '3700',\n",
      "                  'Colour': 'Midnight Black',\n",
      "                  'Connectivity technologies': '2G;3G;GPS;GLONASS;Galileo;BeiDou;USB '\n",
      "                                               '2.0;OTG;WiFi 802.11 a/b/g/n/ac',\n",
      "                  'Form factor': 'Touchscreen Phone',\n",
      "                  'Item Weight': '186 g',\n",
      "                  'Item model number': 'A6010',\n",
      "                  'OS': 'Android',\n",
      "                  'Other camera features': '16MP (Front camera)',\n",
      "                  'Product Dimensions': '15.8 x 0.8 x 7.5 cm',\n",
      "                  'RAM': '8 GB',\n",
      "                  'Special features': 'SIM;GPS;Music Player;Video '\n",
      "                                      'Player;E-mail',\n",
      "                  'Weight': '186 Grams',\n",
      "                  'Whats in the box': 'Handset, Screen Protector '\n",
      "                                      '(pre-applied), Translucent Case, '\n",
      "                                      'OnePlus Fast Charge Type-C Cable, '\n",
      "                                      'OnePlus Fast Charge Power Adapter, SIM '\n",
      "                                      'Tray Ejector, Quick Start Guide, Safety '\n",
      "                                      'Information and Type-C to 3.5mm Audio '\n",
      "                                      'Jack Adapter',\n",
      "                  'Wireless communication technologies': 'Bluetooth;WiFi '\n",
      "                                                         'Hotspot'},\n",
      " 'title': 'OnePlus 6T (Midnight Black, 8GB RAM, 128GB Storage)'}\n"
     ]
    }
   ],
   "source": [
    "data, rurl, browser = scrape_selenium()\n",
    "data['most_recent_reviews'] = most_recent(rurl)\n",
    "data['all_reviews'] = fetch_all_reviews(browser, rurl)\n",
    "pprint(data)"
   ]
  },
  {
   "cell_type": "code",
   "execution_count": 280,
   "metadata": {},
   "outputs": [],
   "source": [
    "#saving the data in pickle\n",
    "with open('data.pickle', 'wb') as f:\n",
    "    pickle.dump(data, f, protocol=pickle.HIGHEST_PROTOCOL)\n",
    "\n",
    "#loading the pickle data\n",
    "with open('data.pickle', 'rb') as f:\n",
    "    b = pickle.load(f)"
   ]
  },
  {
   "cell_type": "code",
   "execution_count": 283,
   "metadata": {},
   "outputs": [
    {
     "data": {
      "text/plain": [
       "True"
      ]
     },
     "execution_count": 283,
     "metadata": {},
     "output_type": "execute_result"
    }
   ],
   "source": []
  }
 ],
 "metadata": {
  "kernelspec": {
   "display_name": "Python 3",
   "language": "python",
   "name": "python3"
  },
  "language_info": {
   "codemirror_mode": {
    "name": "ipython",
    "version": 3
   },
   "file_extension": ".py",
   "mimetype": "text/x-python",
   "name": "python",
   "nbconvert_exporter": "python",
   "pygments_lexer": "ipython3",
   "version": "3.6.7"
  }
 },
 "nbformat": 4,
 "nbformat_minor": 2
}
